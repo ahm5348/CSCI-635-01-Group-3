{
 "cells": [
  {
   "metadata": {},
   "cell_type": "markdown",
   "source": "Neural Network",
   "id": "458ecff547a7a066"
  },
  {
   "cell_type": "code",
   "id": "initial_id",
   "metadata": {
    "collapsed": true,
    "ExecuteTime": {
     "end_time": "2025-10-26T22:41:01.118599Z",
     "start_time": "2025-10-26T22:40:51.186498Z"
    }
   },
   "source": [
    "from sklearn.metrics import (matthews_corrcoef, confusion_matrix,\n",
    "                             classification_report, ConfusionMatrixDisplay)\n",
    "from joblib import dump\n",
    "from ucimlrepo import fetch_ucirepo\n",
    "import tensorflow as tf\n",
    "from tensorflow.keras.datasets import mnist\n",
    "from tensorflow.keras import Sequential, regularizers, callbacks\n",
    "from tensorflow.keras.layers import InputLayer, Flatten, Dense, Dropout\n",
    "from tensorflow.keras.callbacks import EarlyStopping\n",
    "from sklearn.model_selection import train_test_split\n",
    "from sklearn.preprocessing import StandardScaler\n",
    "import matplotlib.pyplot as plt\n",
    "import pandas as pd\n",
    "import numpy as np\n",
    "import utils\n",
    "\n",
    "covertype = fetch_ucirepo(id=31)\n",
    "\n",
    "X = covertype.data.features\n",
    "y = covertype.data.targets"
   ],
   "outputs": [],
   "execution_count": 22
  },
  {
   "metadata": {},
   "cell_type": "markdown",
   "source": "Clean, Balance, and Split Data",
   "id": "225e7eb5748f5ca9"
  },
  {
   "metadata": {
    "ExecuteTime": {
     "end_time": "2025-10-26T22:11:33.192284Z",
     "start_time": "2025-10-26T22:11:31.782320Z"
    }
   },
   "cell_type": "code",
   "source": [
    "# preprocess data using utils.py\n",
    "X_clean, y_clean = utils.clean_data(X, y)\n",
    "\n",
    "X_train, X_test, y_train, y_test = utils.split_data(X_clean, y_clean)\n",
    "\n",
    "# create a validation set\n",
    "validation_ratio = 0.1\n",
    "\n",
    "X_train, X_val, y_train, y_val = utils.split_data(X_train, y_train, validation_ratio)"
   ],
   "id": "69465caa8584337d",
   "outputs": [],
   "execution_count": 2
  },
  {
   "metadata": {},
   "cell_type": "markdown",
   "source": "Create Model",
   "id": "b919cbde9fe7e55c"
  },
  {
   "metadata": {
    "ExecuteTime": {
     "end_time": "2025-10-26T22:11:59.688744Z",
     "start_time": "2025-10-26T22:11:59.521431Z"
    }
   },
   "cell_type": "code",
   "source": [
    "# This model will follow the class implementation\n",
    "model = Sequential([\n",
    "    InputLayer(input_shape=(54,1)),\n",
    "    Flatten(),      # ensure our data is flat\n",
    "    Dense(256, activation='relu', kernel_regularizer=regularizers.l2(0.01)),\n",
    "    # Dense(256, activation='relu'),\n",
    "    # Dropout(0.5),\n",
    "    Dense(128, activation='relu'),\n",
    "    Dense(8, activation='softmax')  # 7 categories\n",
    "])"
   ],
   "id": "be0e80cf287bc518",
   "outputs": [
    {
     "name": "stderr",
     "output_type": "stream",
     "text": [
      "C:\\Users\\Kills\\miniconda3\\Lib\\site-packages\\keras\\src\\layers\\core\\input_layer.py:27: UserWarning: Argument `input_shape` is deprecated. Use `shape` instead.\n",
      "  warnings.warn(\n"
     ]
    }
   ],
   "execution_count": 3
  },
  {
   "metadata": {},
   "cell_type": "markdown",
   "source": "Compile our new model",
   "id": "3bed8fa3280d0af9"
  },
  {
   "metadata": {
    "ExecuteTime": {
     "end_time": "2025-10-26T22:18:03.002142Z",
     "start_time": "2025-10-26T22:18:02.993104Z"
    }
   },
   "cell_type": "code",
   "source": [
    "model.compile(\n",
    "    optimizer=tf.keras.optimizers.Adam(learning_rate=0.001),\n",
    "    loss='sparse_categorical_crossentropy',\n",
    "    metrics=['accuracy']\n",
    ")\n",
    "\n",
    "early_stopping = callbacks.EarlyStopping(monitor='val_loss', patience=5, restore_best_weights=True)"
   ],
   "id": "f019c0828b92468d",
   "outputs": [],
   "execution_count": 15
  },
  {
   "metadata": {
    "ExecuteTime": {
     "end_time": "2025-10-26T22:18:04.048983Z",
     "start_time": "2025-10-26T22:18:04.029773Z"
    }
   },
   "cell_type": "code",
   "source": [
    "# Summary of Data\n",
    "model.summary()"
   ],
   "id": "b7202d7b86872948",
   "outputs": [
    {
     "data": {
      "text/plain": [
       "\u001B[1mModel: \"sequential\"\u001B[0m\n"
      ],
      "text/html": [
       "<pre style=\"white-space:pre;overflow-x:auto;line-height:normal;font-family:Menlo,'DejaVu Sans Mono',consolas,'Courier New',monospace\"><span style=\"font-weight: bold\">Model: \"sequential\"</span>\n",
       "</pre>\n"
      ]
     },
     "metadata": {},
     "output_type": "display_data",
     "jetTransient": {
      "display_id": null
     }
    },
    {
     "data": {
      "text/plain": [
       "┏━━━━━━━━━━━━━━━━━━━━━━━━━━━━━━━━━┳━━━━━━━━━━━━━━━━━━━━━━━━┳━━━━━━━━━━━━━━━┓\n",
       "┃\u001B[1m \u001B[0m\u001B[1mLayer (type)                   \u001B[0m\u001B[1m \u001B[0m┃\u001B[1m \u001B[0m\u001B[1mOutput Shape          \u001B[0m\u001B[1m \u001B[0m┃\u001B[1m \u001B[0m\u001B[1m      Param #\u001B[0m\u001B[1m \u001B[0m┃\n",
       "┡━━━━━━━━━━━━━━━━━━━━━━━━━━━━━━━━━╇━━━━━━━━━━━━━━━━━━━━━━━━╇━━━━━━━━━━━━━━━┩\n",
       "│ flatten (\u001B[38;5;33mFlatten\u001B[0m)               │ (\u001B[38;5;45mNone\u001B[0m, \u001B[38;5;34m54\u001B[0m)             │             \u001B[38;5;34m0\u001B[0m │\n",
       "├─────────────────────────────────┼────────────────────────┼───────────────┤\n",
       "│ dense (\u001B[38;5;33mDense\u001B[0m)                   │ (\u001B[38;5;45mNone\u001B[0m, \u001B[38;5;34m256\u001B[0m)            │        \u001B[38;5;34m14,080\u001B[0m │\n",
       "├─────────────────────────────────┼────────────────────────┼───────────────┤\n",
       "│ dense_1 (\u001B[38;5;33mDense\u001B[0m)                 │ (\u001B[38;5;45mNone\u001B[0m, \u001B[38;5;34m256\u001B[0m)            │        \u001B[38;5;34m65,792\u001B[0m │\n",
       "├─────────────────────────────────┼────────────────────────┼───────────────┤\n",
       "│ dropout (\u001B[38;5;33mDropout\u001B[0m)               │ (\u001B[38;5;45mNone\u001B[0m, \u001B[38;5;34m256\u001B[0m)            │             \u001B[38;5;34m0\u001B[0m │\n",
       "├─────────────────────────────────┼────────────────────────┼───────────────┤\n",
       "│ dense_2 (\u001B[38;5;33mDense\u001B[0m)                 │ (\u001B[38;5;45mNone\u001B[0m, \u001B[38;5;34m128\u001B[0m)            │        \u001B[38;5;34m32,896\u001B[0m │\n",
       "├─────────────────────────────────┼────────────────────────┼───────────────┤\n",
       "│ dense_3 (\u001B[38;5;33mDense\u001B[0m)                 │ (\u001B[38;5;45mNone\u001B[0m, \u001B[38;5;34m8\u001B[0m)              │         \u001B[38;5;34m1,032\u001B[0m │\n",
       "└─────────────────────────────────┴────────────────────────┴───────────────┘\n"
      ],
      "text/html": [
       "<pre style=\"white-space:pre;overflow-x:auto;line-height:normal;font-family:Menlo,'DejaVu Sans Mono',consolas,'Courier New',monospace\">┏━━━━━━━━━━━━━━━━━━━━━━━━━━━━━━━━━┳━━━━━━━━━━━━━━━━━━━━━━━━┳━━━━━━━━━━━━━━━┓\n",
       "┃<span style=\"font-weight: bold\"> Layer (type)                    </span>┃<span style=\"font-weight: bold\"> Output Shape           </span>┃<span style=\"font-weight: bold\">       Param # </span>┃\n",
       "┡━━━━━━━━━━━━━━━━━━━━━━━━━━━━━━━━━╇━━━━━━━━━━━━━━━━━━━━━━━━╇━━━━━━━━━━━━━━━┩\n",
       "│ flatten (<span style=\"color: #0087ff; text-decoration-color: #0087ff\">Flatten</span>)               │ (<span style=\"color: #00d7ff; text-decoration-color: #00d7ff\">None</span>, <span style=\"color: #00af00; text-decoration-color: #00af00\">54</span>)             │             <span style=\"color: #00af00; text-decoration-color: #00af00\">0</span> │\n",
       "├─────────────────────────────────┼────────────────────────┼───────────────┤\n",
       "│ dense (<span style=\"color: #0087ff; text-decoration-color: #0087ff\">Dense</span>)                   │ (<span style=\"color: #00d7ff; text-decoration-color: #00d7ff\">None</span>, <span style=\"color: #00af00; text-decoration-color: #00af00\">256</span>)            │        <span style=\"color: #00af00; text-decoration-color: #00af00\">14,080</span> │\n",
       "├─────────────────────────────────┼────────────────────────┼───────────────┤\n",
       "│ dense_1 (<span style=\"color: #0087ff; text-decoration-color: #0087ff\">Dense</span>)                 │ (<span style=\"color: #00d7ff; text-decoration-color: #00d7ff\">None</span>, <span style=\"color: #00af00; text-decoration-color: #00af00\">256</span>)            │        <span style=\"color: #00af00; text-decoration-color: #00af00\">65,792</span> │\n",
       "├─────────────────────────────────┼────────────────────────┼───────────────┤\n",
       "│ dropout (<span style=\"color: #0087ff; text-decoration-color: #0087ff\">Dropout</span>)               │ (<span style=\"color: #00d7ff; text-decoration-color: #00d7ff\">None</span>, <span style=\"color: #00af00; text-decoration-color: #00af00\">256</span>)            │             <span style=\"color: #00af00; text-decoration-color: #00af00\">0</span> │\n",
       "├─────────────────────────────────┼────────────────────────┼───────────────┤\n",
       "│ dense_2 (<span style=\"color: #0087ff; text-decoration-color: #0087ff\">Dense</span>)                 │ (<span style=\"color: #00d7ff; text-decoration-color: #00d7ff\">None</span>, <span style=\"color: #00af00; text-decoration-color: #00af00\">128</span>)            │        <span style=\"color: #00af00; text-decoration-color: #00af00\">32,896</span> │\n",
       "├─────────────────────────────────┼────────────────────────┼───────────────┤\n",
       "│ dense_3 (<span style=\"color: #0087ff; text-decoration-color: #0087ff\">Dense</span>)                 │ (<span style=\"color: #00d7ff; text-decoration-color: #00d7ff\">None</span>, <span style=\"color: #00af00; text-decoration-color: #00af00\">8</span>)              │         <span style=\"color: #00af00; text-decoration-color: #00af00\">1,032</span> │\n",
       "└─────────────────────────────────┴────────────────────────┴───────────────┘\n",
       "</pre>\n"
      ]
     },
     "metadata": {},
     "output_type": "display_data",
     "jetTransient": {
      "display_id": null
     }
    },
    {
     "data": {
      "text/plain": [
       "\u001B[1m Total params: \u001B[0m\u001B[38;5;34m113,800\u001B[0m (444.53 KB)\n"
      ],
      "text/html": [
       "<pre style=\"white-space:pre;overflow-x:auto;line-height:normal;font-family:Menlo,'DejaVu Sans Mono',consolas,'Courier New',monospace\"><span style=\"font-weight: bold\"> Total params: </span><span style=\"color: #00af00; text-decoration-color: #00af00\">113,800</span> (444.53 KB)\n",
       "</pre>\n"
      ]
     },
     "metadata": {},
     "output_type": "display_data",
     "jetTransient": {
      "display_id": null
     }
    },
    {
     "data": {
      "text/plain": [
       "\u001B[1m Trainable params: \u001B[0m\u001B[38;5;34m113,800\u001B[0m (444.53 KB)\n"
      ],
      "text/html": [
       "<pre style=\"white-space:pre;overflow-x:auto;line-height:normal;font-family:Menlo,'DejaVu Sans Mono',consolas,'Courier New',monospace\"><span style=\"font-weight: bold\"> Trainable params: </span><span style=\"color: #00af00; text-decoration-color: #00af00\">113,800</span> (444.53 KB)\n",
       "</pre>\n"
      ]
     },
     "metadata": {},
     "output_type": "display_data",
     "jetTransient": {
      "display_id": null
     }
    },
    {
     "data": {
      "text/plain": [
       "\u001B[1m Non-trainable params: \u001B[0m\u001B[38;5;34m0\u001B[0m (0.00 B)\n"
      ],
      "text/html": [
       "<pre style=\"white-space:pre;overflow-x:auto;line-height:normal;font-family:Menlo,'DejaVu Sans Mono',consolas,'Courier New',monospace\"><span style=\"font-weight: bold\"> Non-trainable params: </span><span style=\"color: #00af00; text-decoration-color: #00af00\">0</span> (0.00 B)\n",
       "</pre>\n"
      ]
     },
     "metadata": {},
     "output_type": "display_data",
     "jetTransient": {
      "display_id": null
     }
    }
   ],
   "execution_count": 16
  },
  {
   "metadata": {},
   "cell_type": "markdown",
   "source": "Training of Model",
   "id": "15fbf5cc8ca50107"
  },
  {
   "metadata": {
    "ExecuteTime": {
     "end_time": "2025-10-26T22:21:00.113866Z",
     "start_time": "2025-10-26T22:18:05.659146Z"
    }
   },
   "cell_type": "code",
   "source": [
    "fitted = model.fit(\n",
    "    X_train, y_train,\n",
    "    validation_data=(X_val, y_val),\n",
    "    epochs=15,\n",
    "    batch_size=256,\n",
    "    verbose=1\n",
    "   # ,callbacks=[early_stopping]\n",
    ")"
   ],
   "id": "86cef4873d3bcdd5",
   "outputs": [
    {
     "name": "stdout",
     "output_type": "stream",
     "text": [
      "Epoch 1/15\n",
      "\u001B[1m1635/1635\u001B[0m \u001B[32m━━━━━━━━━━━━━━━━━━━━\u001B[0m\u001B[37m\u001B[0m \u001B[1m10s\u001B[0m 5ms/step - accuracy: 0.4874 - loss: 1.2368 - val_accuracy: 0.4876 - val_loss: 1.2260\n",
      "Epoch 2/15\n",
      "\u001B[1m1635/1635\u001B[0m \u001B[32m━━━━━━━━━━━━━━━━━━━━\u001B[0m\u001B[37m\u001B[0m \u001B[1m8s\u001B[0m 5ms/step - accuracy: 0.4876 - loss: 1.2210 - val_accuracy: 0.4876 - val_loss: 1.2174\n",
      "Epoch 3/15\n",
      "\u001B[1m1635/1635\u001B[0m \u001B[32m━━━━━━━━━━━━━━━━━━━━\u001B[0m\u001B[37m\u001B[0m \u001B[1m8s\u001B[0m 5ms/step - accuracy: 0.4876 - loss: 1.2143 - val_accuracy: 0.4876 - val_loss: 1.2113\n",
      "Epoch 4/15\n",
      "\u001B[1m1635/1635\u001B[0m \u001B[32m━━━━━━━━━━━━━━━━━━━━\u001B[0m\u001B[37m\u001B[0m \u001B[1m8s\u001B[0m 5ms/step - accuracy: 0.4876 - loss: 1.2091 - val_accuracy: 0.4876 - val_loss: 1.2076\n",
      "Epoch 5/15\n",
      "\u001B[1m1635/1635\u001B[0m \u001B[32m━━━━━━━━━━━━━━━━━━━━\u001B[0m\u001B[37m\u001B[0m \u001B[1m8s\u001B[0m 5ms/step - accuracy: 0.4869 - loss: 1.2247 - val_accuracy: 0.4876 - val_loss: 1.2113\n",
      "Epoch 6/15\n",
      "\u001B[1m1635/1635\u001B[0m \u001B[32m━━━━━━━━━━━━━━━━━━━━\u001B[0m\u001B[37m\u001B[0m \u001B[1m8s\u001B[0m 5ms/step - accuracy: 0.4876 - loss: 1.2102 - val_accuracy: 0.4876 - val_loss: 1.2098\n",
      "Epoch 7/15\n",
      "\u001B[1m1635/1635\u001B[0m \u001B[32m━━━━━━━━━━━━━━━━━━━━\u001B[0m\u001B[37m\u001B[0m \u001B[1m8s\u001B[0m 5ms/step - accuracy: 0.4876 - loss: 1.2083 - val_accuracy: 0.4876 - val_loss: 1.2086\n",
      "Epoch 8/15\n",
      "\u001B[1m1635/1635\u001B[0m \u001B[32m━━━━━━━━━━━━━━━━━━━━\u001B[0m\u001B[37m\u001B[0m \u001B[1m9s\u001B[0m 5ms/step - accuracy: 0.4870 - loss: 1.2224 - val_accuracy: 0.4876 - val_loss: 1.2124\n",
      "Epoch 9/15\n",
      "\u001B[1m1635/1635\u001B[0m \u001B[32m━━━━━━━━━━━━━━━━━━━━\u001B[0m\u001B[37m\u001B[0m \u001B[1m13s\u001B[0m 8ms/step - accuracy: 0.4876 - loss: 1.2103 - val_accuracy: 0.4876 - val_loss: 1.2097\n",
      "Epoch 10/15\n",
      "\u001B[1m1635/1635\u001B[0m \u001B[32m━━━━━━━━━━━━━━━━━━━━\u001B[0m\u001B[37m\u001B[0m \u001B[1m25s\u001B[0m 11ms/step - accuracy: 0.4876 - loss: 1.2083 - val_accuracy: 0.4876 - val_loss: 1.2077\n",
      "Epoch 11/15\n",
      "\u001B[1m1635/1635\u001B[0m \u001B[32m━━━━━━━━━━━━━━━━━━━━\u001B[0m\u001B[37m\u001B[0m \u001B[1m16s\u001B[0m 8ms/step - accuracy: 0.4876 - loss: 1.2074 - val_accuracy: 0.4876 - val_loss: 1.2067\n",
      "Epoch 12/15\n",
      "\u001B[1m1635/1635\u001B[0m \u001B[32m━━━━━━━━━━━━━━━━━━━━\u001B[0m\u001B[37m\u001B[0m \u001B[1m13s\u001B[0m 8ms/step - accuracy: 0.4862 - loss: 1.2131 - val_accuracy: 0.4876 - val_loss: 1.2089\n",
      "Epoch 13/15\n",
      "\u001B[1m1635/1635\u001B[0m \u001B[32m━━━━━━━━━━━━━━━━━━━━\u001B[0m\u001B[37m\u001B[0m \u001B[1m18s\u001B[0m 7ms/step - accuracy: 0.4876 - loss: 1.2080 - val_accuracy: 0.4876 - val_loss: 1.2075\n",
      "Epoch 14/15\n",
      "\u001B[1m1635/1635\u001B[0m \u001B[32m━━━━━━━━━━━━━━━━━━━━\u001B[0m\u001B[37m\u001B[0m \u001B[1m11s\u001B[0m 7ms/step - accuracy: 0.4876 - loss: 1.2071 - val_accuracy: 0.4876 - val_loss: 1.2064\n",
      "Epoch 15/15\n",
      "\u001B[1m1635/1635\u001B[0m \u001B[32m━━━━━━━━━━━━━━━━━━━━\u001B[0m\u001B[37m\u001B[0m \u001B[1m10s\u001B[0m 6ms/step - accuracy: 0.4876 - loss: 1.2063 - val_accuracy: 0.4876 - val_loss: 1.2065\n"
     ]
    }
   ],
   "execution_count": 17
  },
  {
   "metadata": {},
   "cell_type": "markdown",
   "source": " ## Visualizations",
   "id": "9c5f5e895bc00bbb"
  },
  {
   "metadata": {
    "ExecuteTime": {
     "end_time": "2025-10-17T19:58:06.392846Z",
     "start_time": "2025-10-17T19:58:05.510427Z"
    }
   },
   "cell_type": "code",
   "source": [
    "plt.figure(figsize=(6,3))\n",
    "plt.plot(fitted.history[\"accuracy\"], label=\"Train acc\")\n",
    "plt.plot(fitted.history[\"val_accuracy\"], label=\"Val acc\")\n",
    "plt.xlabel(\"Epoch\"); plt.ylabel(\"Accuracy\"); plt.legend(); plt.tight_layout()\n",
    "plt.show()\n",
    "\n",
    "plt.figure(figsize=(6,3))\n",
    "plt.plot(fitted.history[\"loss\"], label=\"Train loss\")\n",
    "plt.plot(fitted.history[\"val_loss\"], label=\"Val loss\")\n",
    "plt.xlabel(\"Epoch\"); plt.ylabel(\"Loss\"); plt.legend(); plt.tight_layout()\n",
    "plt.show()"
   ],
   "id": "9a2ddb70b27dc974",
   "outputs": [
    {
     "data": {
      "text/plain": [
       "<Figure size 600x300 with 1 Axes>"
      ],
      "image/png": "[encoded data removed]"
     },
     "metadata": {},
     "output_type": "display_data"
    },
    {
     "data": {
      "text/plain": [
       "<Figure size 600x300 with 1 Axes>"
      ],
      "image/png": "[encoded data removed]"
     },
     "metadata": {},
     "output_type": "display_data"
    }
   ],
   "execution_count": 14
  },
  {
   "metadata": {},
   "cell_type": "markdown",
   "source": "## Results",
   "id": "8e322aa51d6e45c0"
  },
  {
   "metadata": {},
   "cell_type": "code",
   "outputs": [],
   "execution_count": null,
   "source": [
    "# See how our model does on the test set\n",
    "\n",
    "# TODO: deal with softmax to a prediction and fix model rigidness.\n",
    "y_predicted = model.predict(X_test)\n",
    "\n",
    "test_mcc = matthews_corrcoef(y_test, y_predicted)\n",
    "print(\"Test MCC:\", test_mcc)\n",
    "\n",
    "print(\"\\nConfusion Matrix:\")\n",
    "print(confusion_matrix(y_test, y_predicted))\n",
    "\n",
    "print(\"\\nClassification Report:\")\n",
    "print(classification_report(y_test, y_predicted))\n",
    "\n",
    "ConfusionMatrixDisplay.from_predictions(y_test, y_predicted, cmap=\"Blues\")\n",
    "plt.show()"
   ],
   "id": "da6691aada3f827a"
  },
  {
   "metadata": {
    "ExecuteTime": {
     "end_time": "2025-10-26T22:41:06.804172Z",
     "start_time": "2025-10-26T22:41:06.684419Z"
    }
   },
   "cell_type": "code",
   "source": [
    "# dump model\n",
    "dump(model, \"../data/best_neural_network.joblib\")"
   ],
   "id": "dc700d2d9924a96a",
   "outputs": [
    {
     "data": {
      "text/plain": [
       "['../data/best_neural_network.joblib']"
      ]
     },
     "execution_count": 23,
     "metadata": {},
     "output_type": "execute_result"
    }
   ],
   "execution_count": 23
  }
 ],
 "metadata": {
  "kernelspec": {
   "display_name": "Python 3",
   "language": "python",
   "name": "python3"
  },
  "language_info": {
   "codemirror_mode": {
    "name": "ipython",
    "version": 2
   },
   "file_extension": ".py",
   "mimetype": "text/x-python",
   "name": "python",
   "nbconvert_exporter": "python",
   "pygments_lexer": "ipython2",
   "version": "2.7.6"
  }
 },
 "nbformat": 4,
 "nbformat_minor": 5
}
