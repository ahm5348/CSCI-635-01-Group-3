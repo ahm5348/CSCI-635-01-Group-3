{
 "cells": [
  {
   "metadata": {},
   "cell_type": "markdown",
   "source": "Neural Network",
   "id": "458ecff547a7a066"
  },
  {
   "cell_type": "code",
   "execution_count": null,
   "id": "initial_id",
   "metadata": {
    "collapsed": true
   },
   "outputs": [],
   "source": [
    "from ucimlrepo import fetch_ucirepo\n",
    "import tensorflow as tf\n",
    "from tensorflow.keras.datasets import mnist\n",
    "from tensorflow.keras import Sequential\n",
    "from tensorflow.keras.layers import InputLayer, Flatten, Dense, Dropout\n",
    "from tensorflow.keras.callbacks import EarlyStopping\n",
    "from sklearn.model_selection import train_test_split\n",
    "from sklearn.preprocessing import StandardScaler\n",
    "import matplotlib.pyplot as plt\n",
    "import pandas as pd\n",
    "import numpy as np\n",
    "import utils\n",
    "\n",
    "covertype = fetch_ucirepo(id=31)\n",
    "\n",
    "X = covertype.data.features\n",
    "y = covertype.data.targets"
   ]
  },
  {
   "metadata": {},
   "cell_type": "markdown",
   "source": "Clean, Balance, and Split Data",
   "id": "225e7eb5748f5ca9"
  },
  {
   "metadata": {},
   "cell_type": "code",
   "outputs": [],
   "execution_count": null,
   "source": [
    "# preprocess data using utils.py\n",
    "X_clean, y_clean = utils.clean_data(X, y)\n",
    "\n",
    "X_train, X_test, y_train, y_test = utils.split_data(X_clean, y_clean)\n",
    "\n",
    "# create a validation set\n",
    "validation_ratio = 0.1\n",
    "\n",
    "X_train, X_val, y_train, y_val = utils.split_data(X_train, y_train, validation_ratio)"
   ],
   "id": "69465caa8584337d"
  },
  {
   "metadata": {},
   "cell_type": "markdown",
   "source": "Create Model",
   "id": "b919cbde9fe7e55c"
  },
  {
   "metadata": {},
   "cell_type": "code",
   "outputs": [],
   "execution_count": null,
   "source": [
    "# This model will follow the class implementation\n",
    "model = Sequential([\n",
    "    InputLayer(input_shape=(54,1)),\n",
    "    Flatten(),      # ensure our data is flat\n",
    "    Dense(256, activation='relu'),\n",
    "    Dense(256, activation='relu'),\n",
    "    Dense(128, activation='relu'),\n",
    "    Dense(5, activation='softmax')  # 5 categories\n",
    "])"
   ],
   "id": "be0e80cf287bc518"
  },
  {
   "metadata": {},
   "cell_type": "markdown",
   "source": "Compile our new model",
   "id": "3bed8fa3280d0af9"
  },
  {
   "metadata": {},
   "cell_type": "code",
   "outputs": [],
   "execution_count": null,
   "source": [
    "model.compile(\n",
    "    optimizer=tf.keras.optimizers.Adam(learning_rate=0.001),\n",
    "    loss='sparse_categorical_crossentropy',\n",
    "    metrics=['accuracy']\n",
    ")"
   ],
   "id": "f019c0828b92468d"
  },
  {
   "metadata": {},
   "cell_type": "code",
   "outputs": [],
   "execution_count": null,
   "source": [
    "# Summary of Data\n",
    "model.summary()"
   ],
   "id": "b7202d7b86872948"
  },
  {
   "metadata": {},
   "cell_type": "markdown",
   "source": "Training of Model",
   "id": "15fbf5cc8ca50107"
  },
  {
   "metadata": {},
   "cell_type": "code",
   "outputs": [],
   "execution_count": null,
   "source": [
    "fitted = model.fit(\n",
    "    X_train, y_train,\n",
    "    validation_data=(X_val, y_val),\n",
    "    epochs=10,\n",
    "    batch_size=256,\n",
    "    verbose=1\n",
    ")"
   ],
   "id": "86cef4873d3bcdd5"
  }
 ],
 "metadata": {
  "kernelspec": {
   "display_name": "Python 3",
   "language": "python",
   "name": "python3"
  },
  "language_info": {
   "codemirror_mode": {
    "name": "ipython",
    "version": 2
   },
   "file_extension": ".py",
   "mimetype": "text/x-python",
   "name": "python",
   "nbconvert_exporter": "python",
   "pygments_lexer": "ipython2",
   "version": "2.7.6"
  }
 },
 "nbformat": 4,
 "nbformat_minor": 5
}
